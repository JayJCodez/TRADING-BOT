{
 "cells": [
  {
   "cell_type": "code",
   "execution_count": 1,
   "metadata": {},
   "outputs": [],
   "source": [
    "import requests   \n",
    "import defs"
   ]
  },
  {
   "cell_type": "code",
   "execution_count": 2,
   "metadata": {},
   "outputs": [],
   "source": [
    "session = requests.Session()"
   ]
  },
  {
   "cell_type": "code",
   "execution_count": 3,
   "metadata": {},
   "outputs": [],
   "source": [
    "instrument = \"EUR_USD\"\n",
    "count = 10\n",
    "granularity = \"H1\""
   ]
  },
  {
   "cell_type": "code",
   "execution_count": 4,
   "metadata": {},
   "outputs": [],
   "source": [
    "url = f\"{defs.OANDA_URL}/instruments/{instrument}/candles\""
   ]
  },
  {
   "cell_type": "code",
   "execution_count": 5,
   "metadata": {},
   "outputs": [
    {
     "data": {
      "text/plain": [
       "'https://api-fxpractice.oanda.com/v3/instruments/EUR_USD/candles'"
      ]
     },
     "execution_count": 5,
     "metadata": {},
     "output_type": "execute_result"
    }
   ],
   "source": [
    "url"
   ]
  },
  {
   "cell_type": "code",
   "execution_count": 6,
   "metadata": {},
   "outputs": [],
   "source": [
    "params = dict(\n",
    "    count = count,\n",
    "    granularity = granularity,\n",
    "    price = \"MBA\"\n",
    ")"
   ]
  },
  {
   "cell_type": "code",
   "execution_count": 7,
   "metadata": {},
   "outputs": [
    {
     "data": {
      "text/plain": [
       "{'count': 10, 'granularity': 'H1', 'price': 'MBA'}"
      ]
     },
     "execution_count": 7,
     "metadata": {},
     "output_type": "execute_result"
    }
   ],
   "source": [
    "params"
   ]
  },
  {
   "cell_type": "code",
   "execution_count": 8,
   "metadata": {},
   "outputs": [],
   "source": [
    "response = session.get(url, params=params, headers=defs.SECURE_HEADER)"
   ]
  },
  {
   "cell_type": "code",
   "execution_count": 10,
   "metadata": {},
   "outputs": [
    {
     "data": {
      "text/plain": [
       "200"
      ]
     },
     "execution_count": 10,
     "metadata": {},
     "output_type": "execute_result"
    }
   ],
   "source": [
    "response.status_code"
   ]
  },
  {
   "cell_type": "code",
   "execution_count": 12,
   "metadata": {},
   "outputs": [
    {
     "data": {
      "text/plain": [
       "{'instrument': 'EUR_USD',\n",
       " 'granularity': 'H1',\n",
       " 'candles': [{'complete': True,\n",
       "   'volume': 5787,\n",
       "   'time': '2024-02-23T14:00:00.000000000Z',\n",
       "   'bid': {'o': '1.08309', 'h': '1.08363', 'l': '1.08237', 'c': '1.08247'},\n",
       "   'mid': {'o': '1.08316', 'h': '1.08370', 'l': '1.08244', 'c': '1.08254'},\n",
       "   'ask': {'o': '1.08323', 'h': '1.08377', 'l': '1.08251', 'c': '1.08262'}},\n",
       "  {'complete': True,\n",
       "   'volume': 6229,\n",
       "   'time': '2024-02-23T15:00:00.000000000Z',\n",
       "   'bid': {'o': '1.08248', 'h': '1.08250', 'l': '1.08111', 'c': '1.08200'},\n",
       "   'mid': {'o': '1.08255', 'h': '1.08257', 'l': '1.08118', 'c': '1.08208'},\n",
       "   'ask': {'o': '1.08262', 'h': '1.08264', 'l': '1.08126', 'c': '1.08215'}},\n",
       "  {'complete': True,\n",
       "   'volume': 6056,\n",
       "   'time': '2024-02-23T16:00:00.000000000Z',\n",
       "   'bid': {'o': '1.08202', 'h': '1.08281', 'l': '1.08143', 'c': '1.08267'},\n",
       "   'mid': {'o': '1.08209', 'h': '1.08289', 'l': '1.08150', 'c': '1.08274'},\n",
       "   'ask': {'o': '1.08216', 'h': '1.08297', 'l': '1.08157', 'c': '1.08281'}},\n",
       "  {'complete': True,\n",
       "   'volume': 4071,\n",
       "   'time': '2024-02-23T17:00:00.000000000Z',\n",
       "   'bid': {'o': '1.08269', 'h': '1.08282', 'l': '1.08204', 'c': '1.08241'},\n",
       "   'mid': {'o': '1.08276', 'h': '1.08289', 'l': '1.08211', 'c': '1.08248'},\n",
       "   'ask': {'o': '1.08283', 'h': '1.08297', 'l': '1.08218', 'c': '1.08255'}},\n",
       "  {'complete': True,\n",
       "   'volume': 3181,\n",
       "   'time': '2024-02-23T18:00:00.000000000Z',\n",
       "   'bid': {'o': '1.08241', 'h': '1.08289', 'l': '1.08222', 'c': '1.08259'},\n",
       "   'mid': {'o': '1.08248', 'h': '1.08296', 'l': '1.08230', 'c': '1.08266'},\n",
       "   'ask': {'o': '1.08256', 'h': '1.08304', 'l': '1.08237', 'c': '1.08274'}},\n",
       "  {'complete': True,\n",
       "   'volume': 2618,\n",
       "   'time': '2024-02-23T19:00:00.000000000Z',\n",
       "   'bid': {'o': '1.08256', 'h': '1.08258', 'l': '1.08194', 'c': '1.08223'},\n",
       "   'mid': {'o': '1.08264', 'h': '1.08266', 'l': '1.08201', 'c': '1.08230'},\n",
       "   'ask': {'o': '1.08272', 'h': '1.08273', 'l': '1.08208', 'c': '1.08238'}},\n",
       "  {'complete': True,\n",
       "   'volume': 3345,\n",
       "   'time': '2024-02-23T20:00:00.000000000Z',\n",
       "   'bid': {'o': '1.08222', 'h': '1.08238', 'l': '1.08170', 'c': '1.08217'},\n",
       "   'mid': {'o': '1.08230', 'h': '1.08246', 'l': '1.08177', 'c': '1.08224'},\n",
       "   'ask': {'o': '1.08238', 'h': '1.08253', 'l': '1.08184', 'c': '1.08231'}},\n",
       "  {'complete': True,\n",
       "   'volume': 1576,\n",
       "   'time': '2024-02-23T21:00:00.000000000Z',\n",
       "   'bid': {'o': '1.08216', 'h': '1.08226', 'l': '1.08184', 'c': '1.08192'},\n",
       "   'mid': {'o': '1.08224', 'h': '1.08234', 'l': '1.08200', 'c': '1.08206'},\n",
       "   'ask': {'o': '1.08231', 'h': '1.08241', 'l': '1.08212', 'c': '1.08221'}},\n",
       "  {'complete': True,\n",
       "   'volume': 809,\n",
       "   'time': '2024-02-25T22:00:00.000000000Z',\n",
       "   'bid': {'o': '1.08300', 'h': '1.08300', 'l': '1.08163', 'c': '1.08220'},\n",
       "   'mid': {'o': '1.08314', 'h': '1.08314', 'l': '1.08199', 'c': '1.08242'},\n",
       "   'ask': {'o': '1.08327', 'h': '1.08327', 'l': '1.08224', 'c': '1.08263'}},\n",
       "  {'complete': False,\n",
       "   'volume': 679,\n",
       "   'time': '2024-02-25T23:00:00.000000000Z',\n",
       "   'bid': {'o': '1.08223', 'h': '1.08223', 'l': '1.08183', 'c': '1.08193'},\n",
       "   'mid': {'o': '1.08232', 'h': '1.08232', 'l': '1.08190', 'c': '1.08200'},\n",
       "   'ask': {'o': '1.08241', 'h': '1.08245', 'l': '1.08197', 'c': '1.08208'}}]}"
      ]
     },
     "execution_count": 12,
     "metadata": {},
     "output_type": "execute_result"
    }
   ],
   "source": [
    "response.json()"
   ]
  }
 ],
 "metadata": {
  "kernelspec": {
   "display_name": "venv",
   "language": "python",
   "name": "python3"
  },
  "language_info": {
   "codemirror_mode": {
    "name": "ipython",
    "version": 3
   },
   "file_extension": ".py",
   "mimetype": "text/x-python",
   "name": "python",
   "nbconvert_exporter": "python",
   "pygments_lexer": "ipython3",
   "version": "3.11.5"
  }
 },
 "nbformat": 4,
 "nbformat_minor": 2
}
